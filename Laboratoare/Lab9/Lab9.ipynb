{
 "cells": [
  {
   "cell_type": "markdown",
   "metadata": {},
   "source": [
    "# Laborator 9 - Interpolari\n",
    " _Lumea este continua, dar mintea e discreta_ - **David Mumford**, laureat al Medaliei Fields (1974)\n",
    " \n",
    "## De ce?\n",
    "\n",
    "Lumea observabila este mereu continua, pe cand datele masurate nu pot fi altfel decat discrete, deoarece acestea nu pot fi masurate decat punctual, in anumite momente de timp. De aici apare o problema:\n",
    "> Cum corelam ceea ce masuram cu ce se intampla in realitate?\n",
    "\n",
    "Mai exact, daca avem nevoie de valori ale fenomenului studiat la momente de timp in care nu s-au facut masuratori, ce facem? Simplu: interpolam rezultatele masuratorilor si **aproximam** rezultatele dorite. Trebuie observat si ca majoritatea functiilor matematice care modeleaza fenomene intalnite in natura sunt **continue.**\n",
    "\n",
    "Exemple de situatii in care se folosesc interpolari:\n",
    "\n",
    "- senzorii de temperatura de pe plava video / procesor, ofera date discrete, care se interpoleaza si se obtin grafice\n",
    "- egalizatoarele de sunet: se seteaza anumite frecvente, valorile intermediare fiind deduse numeric\n",
    "- statistica: calcule la bursele de valori, predictii de profit si dezvoltare financiara\n",
    "- captare de semnale WiFi, radar, radio etc.\n",
    "- AutoCAD\n",
    "- jocuri, streaming"
   ]
  },
  {
   "cell_type": "markdown",
   "metadata": {},
   "source": [
    "## Cum se face?\n",
    "\n",
    "Functia de interpolat este data printr-un set de puncte de pe graficul acesteia, numite **suportul interpolarii**:\n",
    "\n",
    "$$\\{(x_0,\\ f(x_0)),\\ (x_1,\\ f(x_1)), \\dots, (x_n,\\ f(x_n))\\}$$.\n",
    "\n",
    "Prin interpolare, se determina una sau mai multe **functii (adesea polinomiale)** ce aproximeaza valorile functiei, cu o eroare acceptabila.\n",
    "\n",
    "De ce polinoame?\n",
    "\n",
    "- sunt usor de retinut in memoria calculatorului (de ex.: un vector in care se retin coeficientii $a_0, a_1, \\dots, a_n$ corespunzatori termenilor $x^0, x^1, \\dots, x^n$ ai polinomului);\n",
    "\n",
    "- sunt usor de derivat si integrat numeric, de catre un calculator;\n",
    "\n",
    "- sunt flexibile, iar modificand coeficientii sau gradul se pot modela in multiple moduri."
   ]
  },
  {
   "cell_type": "markdown",
   "metadata": {},
   "source": [
    "### De ce putem face asta?\n",
    "\n",
    "Datorita **Teoremei lui Weierstrass**:  \n",
    "$ \\forall \\ f : [a, b] \\rightarrow \\mathbb{R}$ continua si $a, b \\in \\mathbb{R}$, atunci $\\forall \\varepsilon > 0$, exista un polinom $P(x)$ de grad suficient de mare astfel incat\n",
    "urmatoarea relatie sa fie valabila $\\forall x \\in [a, b]$:\n",
    "$$|f(x) - P(x)| < \\varepsilon$$\n",
    "\n",
    "Cu alte cuvinte, **orice functie continua pe un interval poate fi aproximata cu un polinom, cu o eroare oricat de mica**.\n",
    "\n",
    "![ref](Teorema_lui_Weierstrass.png 'Aproximarea lui f conform Teoremei lui Weierstrass')\n",
    "\n",
    "\n",
    "Un rezultat cunoscut ce ilustreaza aceasta teorema este **descompunerea in serie Taylor** (exemplificata in [Anexa 1](#taylor)):\n",
    "\n",
    "Totusi, interpolarea folosind serii Taylor nu se foloseste. De ce?\n",
    "\n",
    "- aceasta interpolare concentreaza informatia in jurul punctului $t$, iar pe masura ce ne departam de el, erorile devin mari;\n",
    "- din acest motiv, pentru orice nou punct $x$ ar fi nevoie de recalcularea polinomului Taylor intr-o vecinatatea a acestui $x$, ceea ce ar necesita o complexitate de calcul prea mare;\n",
    "- insasi calcularea polinomului este problematica: presupune calcularea de derivate de ordin mare, acestea fiind operatii costisitoare din punctul de vedere al timpului de executie, daca se doresc precizii mari."
   ]
  },
  {
   "cell_type": "markdown",
   "metadata": {},
   "source": [
    "## Concluzii generale\n",
    "Asadar, de la interpolari ne dorim, in general:\n",
    "- ca prin calcularea functiilor necesare o singura data, acestea sa ofere aproximari cu erori mici (de un ordin acceptabil) pentru orice puncte din domeniul de interpolare;\n",
    "- ca functiile obtinute sa fie polinomiale\n",
    "- complexitati cat mai mici pentru o anumita precizie - duh!"
   ]
  },
  {
   "cell_type": "markdown",
   "metadata": {},
   "source": [
    "# Interpolarea Lagrange\n",
    "\n",
    "## Notiuni teoretice\n",
    "\n",
    "Una dintre cele mai cunoscute metode de interpolare este __interpolarea Lagrange__. \n",
    "\n",
    "__Idee__:\n",
    "    Fiind dat un set de $n + 1 $ puncte $(x_0, y_0), (x_1, y_1), (x_2, y_2)\\dots(x_n, y_n)$, vrem sa gasim un polinom \n",
    "p care trece prin toate (deci pentru care $p(x_i) = y_i$) cu scopul de a aproxima, cat mai exact, valori in alte puncte decat cele date, din intervalul $(x_0 , x_n)$. Daca vrem sa aproximam valori din afara acestui interval vorbim de extrapolare, care se va studia intr-un laborator ulterior.\n",
    "\n",
    "   Ca prim pas, incercam sa gasim un polinom $p_i(x)$ care sa fie $0$ in toate punctele $x_k$ date mai putin in $x_i$, unde vrem sa fie $1$. Apoi, putem scrie polinomul final de aproximare ca $\\sum_{i=0}^{n} y_i \\cdot p_i(x_i)$. Se observa ca, inlocuind in fiecare punct se respecta conditia $p(x_i) = y_i$. \n",
    "    Asadar vrem sa gasim un polinom care sa fie $0$ in $n$ dintre aceste puncte, ne gandim la ceva de forma:\n",
    "    $$\n",
    "        (x-x_0)\\cdot\\dots\\cdot(x-x_{k-1})\\cdot(x-x_{k+1})\\cdot\\dots\\cdot(x-x_n)\n",
    "    $$ expresie care, evident, se va anula in toate punctele date mai putin in $x_k$.\n",
    "    Suplimentar, trebuie sa respectam si a doua conditie, asa ca impartim relatia de mai sus la $$(x_i-x_0)\\cdot\\dots\\cdot(x_i-x_{k-1})\\cdot(x_i-x_{k+1})\\cdot\\dots\\cdot(x_i-x_n)$$ \n",
    "    Se observa ca nu impartim niciodata la $0$ iar in $x_i$ raportul este $1$. Inlocuind $p_i(x)$ in suma ajungem la polinomul cautat, care sigur \"trece\" prin toate punctele date.\n",
    "    \n",
    "### Teorema: \n",
    "\n",
    "Fie $x_0$, $x_1$, $x_2$,.... ,$x_n$, $n + 1$ numere distincte si $f$ o functie ale carei valori $f(x_i) = y_i$ ne sunt cunoscute, atunci exista un unic polinom $P$, numit polinom de interpolare Langrange , de grad cel mult $n$, care satisface:\n",
    "$$    \n",
    "P(x_i) = y_i \\text{, cu } i = \\overline{0 : n}$$\n",
    "\n",
    "In plus, \n",
    "$$\n",
    "        P(x) = f(x_0) \\cdot L_{n,0}(x) +....+ f(x_n) \\cdot L_{n,n}(x) = \\sum _{i=0}^{n}(f(x) \\cdot L_{n,k}(x)) \\text{, cu } k = \\overline{0 : n}  \\text{,}$$\n",
    "\n",
    "\n",
    "unde\n",
    "$$\n",
    "L_{n,k}(x)= \\frac{(x-x_0)\\cdot\\dots\\cdot(x-x_{k-1})\\cdot(x-x_{k+1})\\cdot\\dots\\cdot(x-x_n)}{(x_k-x_0)\\cdot\\dots\\cdot(x_k-x_{k-1})\\cdot(x_k-x_{k+1})\\cdot\\dots\\cdot(x_k-x_n)}\n",
    "$$\n",
    "\n",
    "        \n",
    "Obtinem \n",
    "$$\n",
    "        L_{n,k}(x) = \\prod _{i=0}^{n}\\dfrac{(x-x_i)}{(x_k-x_i)} \n",
    "\\text{, cu } i = \\overline{0 : n} \\text{ si } i \\neq k$$\n",
    "        \n",
    "### Observatii:\n",
    "\n",
    "- teorema poate fi vazuta ca o generalizare a faptului ca doua puncte determina in mod unic o dreapta sau a faptului ca $3$ puncte determina in mod unic un polinom de grad $2$\n",
    "                          \n",
    "- se observa usor ca in fiecare punct $x_i$, $L_{n,k}(x_i) = 0$ cand $i \\neq k$ si $1$ cand $i = k$, obtinandu-se astfel\n",
    "$P(x_i) = y_i$"
   ]
  },
  {
   "cell_type": "markdown",
   "metadata": {},
   "source": [
    "## Exemplu\n",
    "Determinati polinomul (liniar) de interpolare Lagrange care trece prin punctele (2,4) si (5,1).\n",
    "\n",
    "$x_0 = 2$ si $x_1 = 5$\n",
    "\n",
    "Avem:\n",
    "\n",
    "$L_0(x) = -\\displaystyle\\frac{x-5}{3}$ si $L_1(x) = \\displaystyle\\frac{x-2}{3}$ \n",
    "\n",
    "$P(x) = 4 \\cdot L_0(x) +  L_1(x) = -x + 6$\n",
    "\n",
    "### Problema propusa\n",
    "\n",
    "**L1 \\[0p\\]** Luati inca un exemplu pentru $3$ puncte date, rezolvati si testati. Puteti compara rezultatele ce cele\n",
    "obtinute in urma altor tipuri de interpolari."
   ]
  },
  {
   "cell_type": "code",
   "execution_count": null,
   "metadata": {},
   "outputs": [],
   "source": [
    "x = [2 5] % valori pt x\n",
    "y = [4 1]  % valori pt y\n",
    "n=2 % gradul polinomului cu care aproximam (in sensul celor mai mici patrate)\n",
    "polyfit(x,y,n) % outputul reprezinta coef. pol."
   ]
  },
  {
   "cell_type": "markdown",
   "metadata": {},
   "source": [
    "## Exemplu de implementare"
   ]
  },
  {
   "cell_type": "code",
   "execution_count": null,
   "metadata": {},
   "outputs": [],
   "source": [
    "function [y] = lagrange(x, x0, y0)\n",
    "\n",
    "    % x0 - vector care contine x_i\n",
    "    % y0 - vector care contine y_i\n",
    "    % x - punctul x in care vrem sa aproximam\n",
    "    % y - y-ul obtinut\n",
    "\n",
    "    % initializari\n",
    "    n = size(x0, 2); \n",
    "    y = 0;\n",
    "\n",
    "    for i = 1:n\n",
    "        p = 1;\n",
    "        for j = 1:n\n",
    "            if j == i   % se evita impartirea la 0\n",
    "                continue;\n",
    "            endif;\n",
    "            p = p * (x - x0(j)) / (x0(i) - x0(j));\n",
    "\n",
    "        endfor;\n",
    "        y = y + y0(i) * p;   \n",
    "    endfor;\n",
    "endfunction;"
   ]
  },
  {
   "cell_type": "code",
   "execution_count": null,
   "metadata": {},
   "outputs": [],
   "source": [
    "lagrange(10, x, y)"
   ]
  },
  {
   "cell_type": "markdown",
   "metadata": {},
   "source": [
    "Totusi, in anumite cazuri, cum ar fi un n mare, interpolarea Lagrange nu da o aproximare buna datorita variatiilor mari si neuniforme pe care le poate avea polinomul pe unele intervale, ca cel din imagine, in aceste cazuri fiind preferate alte tipuri de interpolare, pe care le vom studia in continuare.\n",
    "\n",
    "![ref](demolagr.png)\n",
    "\n",
    "Linkuri utile si alte exemple:\n",
    "\n",
    "http://mathworld.wolfram.com/LagrangeInterpolatingPolynomial.html\n",
    "\n",
    "https://www.geeksforgeeks.org/lagranges-interpolation/"
   ]
  },
  {
   "cell_type": "markdown",
   "metadata": {},
   "source": [
    "**L2 \\[0p\\] Pentru al doilea ma gandeam la meteorologie, ca se foloseste interpolarea spatiala pentru a determina parametri precum radiatia solara, temperatura sau umiditatea relativa bazandu-ne pe datele obtinute in cateva locuri cheie**"
   ]
  },
  {
   "cell_type": "markdown",
   "metadata": {},
   "source": [
    "# Interpolari folosind metoda Neville"
   ]
  },
  {
   "cell_type": "markdown",
   "metadata": {},
   "source": [
    "\n",
    "## Ce face această metodă?"
   ]
  },
  {
   "cell_type": "markdown",
   "metadata": {},
   "source": [
    "Metoda Neville construiește un polinom ce încearcă să aproximeze comportamentul unei funcții.\n",
    "<br>\n",
    "<br>\n",
    "Considerând funcția $f:[a, b] \\rightarrow R$ căreia îi cunoaştem valorile în $n+1$ puncte $x_0, x_1, ..., x_n$, această metodă construieşte un polinom de grad cel mult $n$ ce aproximeză comportamentul funcției în afara acestor puncte.\n",
    "<br>\n",
    "<br>\n",
    "Fiind o interpolare, polinomul rezultat aproximează destul de bine comportamentul funcției pe intervalul $[x_0, x_n]$ dar poate obține rezultate foarte depărtate de adevăr în afara acestuia."
   ]
  },
  {
   "cell_type": "markdown",
   "metadata": {},
   "source": [
    "## Cum se construieşte polinomul?"
   ]
  },
  {
   "cell_type": "markdown",
   "metadata": {},
   "source": [
    "Metoda Neville pornește de la $n + 1$ polinoame de grad $0$, reprezentând valorile lui $x_i$ de la care pornim.\n",
    "<br>\n",
    "Astfel, condițiile inițiale sunt reprezentate de cele $n + 1$ polinoame $P_{i, i} = f(x_i)$ pentru $0 \\leqslant i \\leqslant n$.\n",
    "<br>\n",
    "<br>\n",
    "Primul pas în construirea polinomului este calcularea polinomelor $P_{i, i + 1}$ ce unesc fiecare pereche de puncte consecutive $(x_i, x_{i + 1})$. Astfel, apare corespondenţa:\n"
   ]
  },
  {
   "cell_type": "markdown",
   "metadata": {},
   "source": [
    "$$P_{0, 1} \\rightarrow (x_0, f(x_0)), (x_1, f(x_1))$$\n",
    "$$P_{1, 2} \\rightarrow (x_1, f(x_1)), (x_2, f(x_2))$$\n",
    "$$...$$\n",
    "$$P_{n - 1, n} \\rightarrow (x_{n - 1}, f(x_{n - 1})), (x_n, f(x_n))$$"
   ]
  },
  {
   "cell_type": "markdown",
   "metadata": {},
   "source": [
    "Formula de recurență utilizată pentru calculul polinoamelor la fiecare pas depinde doar de polinoamele obținute la pasul anterior.\n",
    "<br>\n",
    "$P_{i, j}$ reprezintă polinomul de grad $j - i$ care trece prin punctele $(x_k, y_k)$ cu $i \\leqslant k \\leqslant j$.\n",
    "\n",
    "$$P_{i, j}(x) = \\frac{(x - x_j)P_{i, j - 1}(x)}{x_i - x_j} - \\frac{(x - x_i)P_{i + 1, j}(x)}{x_i - x_j}, 0 \\leqslant i < j \\leqslant n$$"
   ]
  },
  {
   "cell_type": "markdown",
   "metadata": {},
   "source": [
    "Astfel, se poate observa că la fiecare pas se calculează alte polinoame, de grad mai mare, ce vor uni un punct în plus.\n",
    "<br>\n",
    "La pasul $n$ se va calcula polinomul $P_{0, n}$, care va fi și răspunsul dorit.\n",
    "<br>\n",
    "<br>\n",
    "Așadar, spre deosebire de polinomul Lagrange (unde polinomul se contruiește tot odată), se poate observa cum prin această metodă procesul de construcţie este bazat pe o formulă de recurență. Acesta poate fi reprezentat sub formă piramidală astfel:"
   ]
  },
  {
   "cell_type": "markdown",
   "metadata": {},
   "source": [
    "<img src=\"Neville.png\" width=50%>"
   ]
  },
  {
   "cell_type": "markdown",
   "metadata": {},
   "source": [
    "# Recursiv sau iterativ?"
   ]
  },
  {
   "cell_type": "markdown",
   "metadata": {},
   "source": [
    "Cel mai natural mod de a calcula $P_{0, n}$ este prin definirea unei funcții recursive. Această funcție va primi ca parametrii valorile din cele $n + 1$ puncte inițiale și cei $2$ indici $i$ și $j$. Problema care apare în această abordare este calcularea unor polinoame de mai multe ori.\n",
    "<br>\n",
    "Dacă ne uităm în imaginea de mai sus, putem observa că atât pentru calculul lui $P_{1,4}$ cât și pentru $P_{0,3}$ avem nevoie de $P_{1,3}$. Metoda recursivă nu va ține cont de calculele făcute anterior pentru construcția altui polinom și va reconstrui toate polinoamele de care are nevoie.\n",
    "<br>\n",
    "<br>"
   ]
  },
  {
   "cell_type": "markdown",
   "metadata": {},
   "source": [
    "### Probleme propuse\n",
    "\n",
    "**N1 \\[0p\\]** Completați codul de mai jos pentru a obține **recursiv** estimarea funcției în punctul x0. Recursivitatea trebuie să respecte următoarea recurență:\n",
    "<br>\n",
    "<br>\n",
    "$$P_{i, i}(x) = y_i, 0 \\leqslant i \\leqslant n$$\n",
    "<br>\n",
    "$$P_{i, j}(x) = \\frac{(x - x_j)P_{i, j - 1}(x)}{x_i - x_j} - \\frac{(x - x_i)P_{i + 1, j}(x)}{x_i - x_j}, 0 \\leqslant i < j \\leqslant n$$"
   ]
  },
  {
   "cell_type": "code",
   "execution_count": null,
   "metadata": {},
   "outputs": [],
   "source": [
    "# Algoritmul lui Neville implementat recursiv.\n",
    "# Acesta estimeaza valoarea functiei in punctul x0.\n",
    "function y0 = Neville(x0, x, y, i, j)\n",
    "# Input: x0 -- punctul in care vrem sa evaluam functia\n",
    "#        x  -- punctele in care cunoastem valoarea functiei\n",
    "#        y  -- valoarea functiei in punctele din x\n",
    "#      i, j -- indicii polinomului de calculat\n",
    "# Output: y0 -- valoareaa polinomului ce trece prin cele x puncte\n",
    "#               evalut in punctul x0\n",
    "    if (i == j)\n",
    "        y0 = y(i);\n",
    "    else \n",
    "        y1 = ...;\n",
    "        y2 = ...;\n",
    "        y0 = ((x0 - x(j)) * y1 - (x0 - x(i)) * y2) / (x(i) - x(j));\n",
    "    end\n",
    "endfunction"
   ]
  },
  {
   "cell_type": "code",
   "execution_count": null,
   "metadata": {},
   "outputs": [],
   "source": [
    "x = 1:2:10;\n",
    "y = 1:2:10;\n",
    "y0 = Neville(2, x, y, 1, 5)"
   ]
  },
  {
   "cell_type": "markdown",
   "metadata": {},
   "source": [
    "### Avantajele metodei iterative\n",
    "Dacă vrem să calculăm valoarea funcției $f$ în punctul $x0$ cel mai eficient din punct de vedere temporal este folosind metoda iterativă. Astfel, vom evita calcularea aceleiași valori de mai multe ori, așa cum se întâmplă în abordarea algoritmului recursiv.\n",
    "\n",
    "Așadar, fiecare valoare a polinomului va fi **memorata** într-o matrice pentru a putea fi folosită de oricâte ori, fară a fi recalculată.\n",
    "\n",
    "Algoritmul va avea următoarea structură:\n",
    "* determinarea gradului maxim al polinomului rezultat.\n",
    "* inițializarea valorilor pentru polinoamele de forma $P_{i, i}$.\n",
    "* calcularea valorilor polinoamelor $P_{i, j}$.\n",
    "\n",
    "**N2 \\[0p\\]** Completați codul de mai jos pentru a obține **iterativ** estimarea funcției în punctul x0."
   ]
  },
  {
   "cell_type": "code",
   "execution_count": null,
   "metadata": {},
   "outputs": [],
   "source": [
    "# Algoritmul lui Neville implementat recursiv.\n",
    "# Acesta estimeaza valoarea functiei in punctul x0.\n",
    "function y0 = Neville_it(x0, x, y)\n",
    "# Input: x0 -- punctul in care vrem sa evaluam functia\n",
    "#        x  -- punctele in care cunoastem valoarea functiei\n",
    "#        y  -- valoarea functiei in punctele din x\n",
    "# Output: y0 -- valoareaa polinomului ce trece prin cele x puncte\n",
    "#               evalut in punctul x0\n",
    "    n = ...;\n",
    "    # n este gradul maxim al polinomului\n",
    "    p = zeros(n + 1, n + 1);\n",
    "    \n",
    "    for i = 1 : ...\n",
    "        p(i, i) = y(i);\n",
    "    end\n",
    "    \n",
    "    for j = 1 : ...\n",
    "        for i = 1 : ...\n",
    "            p(i,i+j) = ((x(i+j)-x0)*p(i,i+j-1) + (x0-x(i))*p(i+1,i+j))/(x(i+j)-x(i));\n",
    "        end\n",
    "    end\n",
    "    y0 = p(1, n + 1);\n",
    "endfunction"
   ]
  },
  {
   "cell_type": "code",
   "execution_count": null,
   "metadata": {},
   "outputs": [],
   "source": [
    "x = 1:2:10;\n",
    "y = 1:2:10;\n",
    "y0 = Neville_it(2, x, y, 1, 5)"
   ]
  },
  {
   "cell_type": "markdown",
   "metadata": {},
   "source": [
    "N3. Interpolarile polinomiale au numeroase utilizari, mai ales in aproximarea datelor masurate experimental. De exemplu, avand doar rezultatele obtinute de un senzor care masoara temperatura dintr-o incapere la momente fixate de timp, putem determina valoarea temperaturii intr-un moment intermediar, relevant pentru analiza facuta, unde:\n",
    "- $x$ = timpul scurs de la pornirea senzorului\n",
    "\n",
    "- $f(x)$ = temperatura masurata\n",
    "\n",
    "Se considera functia $f$, cunoscuta in punctele:\n",
    "\n",
    "|   $x$  | $1.5$ | $2$ | $4$ | $5$ |\n",
    "| ------ | ----- |---- |---- |---- |\n",
    "| $f(x)$ |  $0$  | $0$ | $0$ | $0$ |\n",
    "\n",
    "Aplicand metoda Neville, determinati valoarea functiei in $x = 3$."
   ]
  },
  {
   "cell_type": "markdown",
   "metadata": {},
   "source": [
    "# Interpolare cu functii Spline\n",
    "\n",
    "## De ce?\n",
    "\n",
    "Pana acum am analizat 2 metode de interpolare ce aveau ca rezultat un singur polinom ce trecea prin toate punctele date. Ce probleme apareau?\n",
    "- erori mari in capetele domeniului de interpolare la Lagrange, din cauza gradului mare al polinomului\n",
    "- complexitate de calcul exponentiala la Neville, daca nu se foloseste memoizarea: $O(2^n)$\n",
    "\n",
    "In aparenta, ar fi necesar un compromis perpetuu intre complexitate si erori. Cu toate acestea, exista moduri in care putem obtine o interpolare buna, fara a face compromisuri: **functiile Spline.** Pentru a scapa de problema polinoamelor de grad mare, ce pot avea oscilatii greu de controlat, se vor interpola cate **2 puncte consecutive**, functiile rezultate fiind alese astfel incat sa rezulte o curba cat mai **neteda**.\n",
    "\n",
    "**Se cauta, deci, o functie $S$ definita pe ramuri. Fiecare dintre aceste ramuri reprezinta o alta functie, numita functie de imbinare:** $\\textbf{$s_0, s_1, \\dots, s_{n -1}$}$ care sa asigure interpolari intre cate 2 puncte consecutive ale functiei date. Putem defini $S(x)$ astfel:\n",
    "\n",
    "$$\n",
    "S(x) = \\begin{cases} s_0(x), & x \\in [x_0, x_1] \\\\ s_1(x), & x \\in [x_1, x_2] \\\\ . \\\\ . \\\\ . \\\\ s_{n - 1}(x), & x \\in [x_{n - 1}, x_n] \\end{cases}\n",
    "$$"
   ]
  },
  {
   "cell_type": "markdown",
   "metadata": {},
   "source": [
    "## 1. Interpolare cu functii de clasa $C^0$\n",
    "\n",
    "Intr-o prima instanta ne punem problema gasirii unei functii $S$ **continue** care sa interpoleze toata functia data si sa treaca prin punctele-suport. Functiile de imbinare $s_0, s_1, \\dots, s_n$ vor fi niste drepte, deci vor fi polinoame de grad 1:\n",
    "\n",
    "$$s_i(x) = a_ix + b_i; \\  a_i, b_i \\in \\mathbb{R}, i = \\overline{0,n - 1}$$\n",
    "\n",
    "Dupa cum se observa, sunt $2n$ necunoscute, $a_i$ si $b_i$ cu $i = \\overline{0,n - 1}$. Deci, vom avea nevoie de $2n$ ecuatii pentru a le determina. Aceste ecuatii rezulta din 2 tipuri de conditii fundamentale pentru interpolarile cu functii Spline:\n",
    "\n",
    "### Conditii de interpolare\n",
    "\n",
    "Aceste conditii se asigura ca $S$ trece prin toate punctele-suport:\n",
    "\n",
    "$s_i(x_i) = f(x_i), \\  i = \\overline{0,n - 1} \\Rightarrow$ **n ecuatii**\n",
    "\n",
    "$s_{n - 1}(x_n) = f(x_n) \\Rightarrow$ **o ecuatie**\n",
    "\n",
    "### Conditii de racordare\n",
    "\n",
    "Functia $S \\in C^0([x_0, x_n])$, deci este continua, iar conditiile de racordare vizeaza aceasta proprietate:\n",
    "\n",
    "$s_i(x_{i + 1}) = s_{i + 1}(x_{i + 1}), \\  i = \\overline{0,n - 2}  \\Rightarrow$ **alte n - 1 ecuatii**\n",
    "\n",
    "In total, din aceste 2 conditii rezulta cele $2n$ ecuatii necesare. Sistemul va fi de forma:\n",
    "\n",
    "$a_ix_i + b_i = f(x_i), \\ i = \\overline{0,n - 1}$\n",
    "\n",
    "$a_{n - 1}x_n + b_n = f(x_n)$\n",
    "\n",
    "$(a_i - a_{i + 1})x_{i + 1} + (b_i - b_{i + 1}) = 0, \\ i = \\overline{0,n - 2}$, trecand membrul drept din conditiile de racordare in partea stanga\n",
    "\n",
    "Dupa rezolvarea acestui sistem, va rezulta o interpolare de forma:\n",
    "\n",
    "![ref1](Spline_C0.png 'Graficul interpolarii cu functii Spline continue, in diverse puncte')\n",
    "\n",
    "Observati natura erorilor in fiecare caz! Asadar, pentru o eroare de ordinul $10^{-3}$ este nevoie in acest caz de de 3 ori mai multe puncte-suport. Pe langa posibilitatea de a a nu dispune de acele puncte suplimentare, calcularea Spline-urilor in acestea ar face ca numarul de operatii sa creasca de $9$ ori (folosind metode iterative, complexitatea de rezolvare a unui sistem este $O(n^2)$).\n",
    "\n",
    "Deci Spline-urile de clasa $C^0$ nu sunt prea eficiente daca numarul de puncte din suportul interpolarii este mic. Daca ne uitam la functia data in graficele de mai sus, aceasta nu pare doar continua, ci pare ca are si **derivata continua**. Ce ar fi sa imitam acest comportament?"
   ]
  },
  {
   "cell_type": "markdown",
   "metadata": {},
   "source": [
    "##  2. Interpolare cu functii de clasa $C^1$\n",
    "\n",
    "### Ce se schimba?\n",
    "\n",
    "Care sunt diferentele dintre o functie de clasa $C^0$ si una de clasa $C^1$? Se pot observa in graficele de mai jos. In cel de sus avem [Fractalul lui Weierstrass](https://en.wikipedia.org/wiki/Weierstrass_function), o functie continua, pe $\\mathbb{R}$, dar nederivabila in niciun punct, iar jos este rezultatul **integrarii** functiei care genereaza acest fractal, adica o functie de clasa $C^1$, dar care nu are derivata de ordin 2 in niciun punct. Observati ca aceasta din urma este mai **neteda**:\n",
    "\n",
    "![ref2](C0vsC1.png 'Functia lui Weierstrass comparata cu una dintre primitivele sale')\n",
    "\n",
    "Nu putem obtine un $S$ de clasa $C^1$ cu polinoame de imbinare de grad 1, ci este nevoie ca functiile de imbinare sa fie **polinoame de grad 3 (functii cubice)**, intrucat cele de grad 2 ce ar rezulta in urma integrarii functiilor de imbinare de mai sus nu sunt destul de flexibile in practica. Pentru usurinta in calcule, vom considera:\n",
    "\n",
    "$$s_i(x) = a_i(x - x_i)^3 + b_i(x - x_i)^2 + c_i(x - x_i) + d_i; \\  a_i, b_i, c_i, d_i \\in \\mathbb{R}, i = \\overline{0,n - 1}$$\n",
    "\n",
    "Acum avem $4n$ necunoscute, deci vom avea nevoie de tot atatea ecuatii. Daca am folosi doar conditiile de interpolare si de racordare de la Spline-urile de clasa $C^0$, la care am adauga conditia ca $S'$ sa fie continua, am avea doar $3n - 1$ ecuatii. Din acest motiv, se impune sa cunoastem si **derivata functiei date** in punctele-suport:\n",
    "\n",
    "### Conditii de interpolare\n",
    "\n",
    "$s_i(x_i) = f(x_i), \\ i = \\overline{0,n - 1} \\Rightarrow n$ ecuatii\n",
    "\n",
    "$s'_i(x_i) = f'(x_i), \\ i = \\overline{0,n - 1} \\Rightarrow n$ ecuatii (aceasta conditie devine necesara din cauza numarului redus de ecuatii)\n",
    "\n",
    "$s_{n - 1}(x_n) = f(x_n)$\n",
    "\n",
    "$s'_{n - 1}(x_n) = f'(x_n)$\n",
    "\n",
    "### Conditii de racordare\n",
    "\n",
    "$s_i(x_{i + 1}) = s_{i + 1}(x_{i + 1}), \\  i = \\overline{0,n - 2}  \\Rightarrow n - 1$ ecuatii\n",
    "\n",
    "$s'_i(x_{i + 1}) = s'_{i + 1}(x_{i + 1}), \\  i = \\overline{0,n - 2}  \\Rightarrow n - 1$ ecuatii\n",
    "\n",
    "Acum am obtinut cele $4n$ ecuatii necesare."
   ]
  },
  {
   "cell_type": "markdown",
   "metadata": {},
   "source": [
    "## 3. Interpolare cu functii de clasa $C^2$\n",
    "\n",
    "Dupa cum s-a vazut, marind clasa unei functii, aceasta devine mai neteda, iar in general, ceea ce se gaseste in natura, deci si datele care vor trebui la un moment dat interpolate sunt modelate dupa functii netede. Din acest motiv, se impune trecerea la interpolare cu functii Spline de clasa $C^2$, astfel incat si **curbura functiilor de imbinare** sa fie avuta in vedere. Amanunte despre utilitatea derivatei a doua se pot vedea in [Anexa 2](#deriv).\n",
    "\n",
    "De asemenea, utilizarea unor functii Spline de clasa $C^2$ ofera un alt avantaj: acum avem suficiente ecuatii pentru a **nu mai avea nevoie de toate valorile derivatei functiei date**:\n",
    "\n",
    "### Conditii de interpolare\n",
    "\n",
    "$s_i(x_i) = f(x_i), \\ i = \\overline{0,n - 1} \\Rightarrow n$ ecuatii\n",
    "\n",
    "$s_{n - 1}(x_n) = f(x_n)$\n",
    "\n",
    "### Conditii de racordare\n",
    "\n",
    "$s_i(x_{i + 1}) = s_{i + 1}(x_{i + 1}), \\  i = \\overline{0,n - 2}  \\Rightarrow n - 1$ ecuatii\n",
    "\n",
    "$s'_i(x_{i + 1}) = s'_{i + 1}(x_{i + 1}), \\  i = \\overline{0,n - 2}  \\Rightarrow n - 1$ ecuatii\n",
    "\n",
    "$s''_i(x_{i + 1}) = s''_{i + 1}(x_{i + 1}), \\  i = \\overline{0,n - 2}  \\Rightarrow n - 1$ ecuatii\n",
    "\n",
    "In total $\\textbf{4n - 2}$ **ecuatii**, dar ne trebuie $\\textbf{4n}$ **ecuatii**. Din acest motiv, se introduc 2 tipuri de Spline-uri de clasa $C^2$:\n",
    "\n",
    "### Spline-uri naturale\n",
    "\n",
    "Poarta denumirea aceasta deoarece la capetele setului de puncte date, graficul lui $S$ va fi drept, acest lucru datorandu-se alegerii:\n",
    "\n",
    "$$s''(x_0) = 0 \\textrm{ si } s''_{n - 1}(x_n) = 0$$\n",
    "\n",
    "### Spline-uri tensionate\n",
    "\n",
    "Daca este posibil, se prefera sa se lucreze la capetele domeniului de interpolare cu derivatele functiei date, pentru a se utiliza mai multa informatie despre aceasta, aceasta varianta fiind in general mai precisa decat Spline-urile naturale:\n",
    "\n",
    "$$s'(x_0) = f'(x_0) \\textrm{ si } s'_{n - 1}(x_n) = f'(x_n)$$"
   ]
  },
  {
   "cell_type": "markdown",
   "metadata": {},
   "source": [
    "# Curbe Bézier\n",
    "\n",
    "\n",
    "O curba Bézier este o curba parametrica ce are la baza polinoamele Bernstein.\n",
    "Dandu-se un set de $n+1$ puncte de control $P_0, P_1, ..., P_n$, o curba  Bézier este definita prin urmatoarea relatie:\n",
    "$$B(n) = (1 - t)^n \\cdot P_0 + C_n^1 \\cdot (1 - t)^{n - 1} \\cdot t \\cdot P_1 + ... + C_n^{n - 1} \\cdot (1 - t) \\cdot t^{n - 1} \\cdot P_{n - 1} + t^n \\cdot P_n, \\; t \\in [0, 1],$$\n",
    "$$B(n) = \\sum_{i = 0}^{n} P_i \\cdot  B_{i, n}(t), \\; t \\in [0, 1],$$\n",
    "unde $B_{i, n}(t)$ este un polinom Bernstein de grad $n$.\n",
    "\n",
    "## Polinoame Bernstein\n",
    "\n",
    "Un polinom Bernstein de grad $n$ este definit astfel:\n",
    "$$B_{i, n}(t) = C_n^i \\cdot  (1-t)^{(n-i)} \\cdot  t^i$$\n",
    "pentru $i = \\overline{0, n}$, unde  $$C_n^i = \\frac{n!}{i!\\cdot  (n-i)!}$$\n",
    "\n",
    "Polinoamele Bernstein se obtin pornind de la identitatea $(1 - t) + t = 1$, ridicand la puterea $n$ si dezvoltand folosind binomul lui Newton.\n",
    "Se pot vizualiza polinoamele Bernstein in [Anexa 3](#bern).\n",
    "\n",
    "### Proprietatile polinoamelor Bernstein\n",
    "- sunt nenegative pe intervalul $[0, 1]$: $B_{i, n}(t) \\geq 0$\n",
    "- polinoamele Bernstein de grad $n$ formeaza o partitie a unitatii: $\\sum_{i=0}^{n} B_{i, n}(t) = (1 - t + t)^n = 1$\n",
    "- simetrie: $B_{i, n}(t) = B_{n - i, n}(1 - t)$\n",
    "- respecta formula de recurenta: $B_{i, n}(t) = (1 - t)\\cdot B_{i,  n - 1}(t) + t\\cdot  B_{i - 1, n - 1}(t)$\n",
    "- functia $B_{i, n}(t)$ are pe intervalul $[0, 1]$ un punct de maxim $t = \\displaystyle\\frac{i}{n}$\n"
   ]
  },
  {
   "cell_type": "markdown",
   "metadata": {},
   "source": [
    "## Proprietatile unei curbe Bézier\n",
    "- nu trece prin toate punctele de control, ci doar prin $P_0$ si $P_n$ ($B(0) = P_0$ si $B(1) = P_n$);\n",
    "- este tangenta segmentelor $P_0P_1$ si $P_{n-1}P_{n}$;\n",
    "- este continuta complet in infasuratoarea convexa a punctelor de control;\n",
    "- este liniara doar daca punctele de control sunt coliniare;\n",
    "- poate fi descompusa in alte 2 curbe Bézier.\n",
    "\n",
    "## La ce se folosesc curbele Bézier?\n",
    "- grafica pe calculator (Adobe Illustrator, Inkscape);\n",
    "- generare de fonturi (FreeType);\n",
    "- robotica;\n",
    "- animatie (Adobe Flash, CSS, JavaScript)."
   ]
  },
  {
   "cell_type": "markdown",
   "metadata": {},
   "source": [
    "## Tipuri de curbe Bézier\n",
    "\n",
    "#### Curbe Bézier liniare:\n",
    "$$B(t) = (1-t)\\cdot P_0 + t\\cdot P_1$$\n",
    "\n",
    "![ref](Bézier_1.gif)"
   ]
  },
  {
   "cell_type": "code",
   "execution_count": null,
   "metadata": {},
   "outputs": [],
   "source": [
    "function [] = linearBezier()\n",
    "    pt1 = [5; -10];\n",
    "    pt2 = [45; 15];\n",
    "\n",
    "    % plotare puncte\n",
    "    plot(pt1(1), pt1(2), '*');\n",
    "    hold on;\n",
    "    plot(pt2(1), pt2(2), '*');\n",
    "    hold on;\n",
    "\n",
    "    xlim([0 50]);\n",
    "    axis equal;\n",
    "\n",
    "    % ecuatia parametrica\n",
    "    t = linspace(0, 1, 101);\n",
    "    pts = kron((1 - t), pt1) + kron(t ,pt2);\n",
    "\n",
    "    % plotare curba\n",
    "    plot(pts(1, :), pts(2, :));\n",
    "    title (\"Curba Bezier liniara\", \"fontsize\", 20);\n",
    "    h = legend (\"P0 (punct de control)\", \"P1 (punct de control)\", \"Curba Bezier\");\n",
    "    legend (h, \"location\", \"northeastoutside\");\n",
    "endfunction"
   ]
  },
  {
   "cell_type": "code",
   "execution_count": null,
   "metadata": {},
   "outputs": [],
   "source": [
    "linearBezier()"
   ]
  },
  {
   "cell_type": "markdown",
   "metadata": {},
   "source": [
    "#### Curbe Bézier cuadratice:\n",
    "$$B(t) = (1-t)^2\\cdot P_0 + 2t\\cdot (1-t)\\cdot P_1 + t^2\\cdot P_2$$\n",
    "![ref](Bézier_2.gif)"
   ]
  },
  {
   "cell_type": "code",
   "execution_count": null,
   "metadata": {},
   "outputs": [],
   "source": [
    "function [] = cuadraticBezier()\n",
    "    pt1 = [ 5; -10];\n",
    "    pt2 = [18; 18];\n",
    "    pt3 = [45; 15];\n",
    "\n",
    "    % plotare puncte\n",
    "    plot(pt1(1), pt1(2), '*');\n",
    "    hold on;\n",
    "    plot(pt2(1), pt2(2), '*');\n",
    "    hold on;\n",
    "    plot(pt3(1), pt3(2), '*');\n",
    "    hold on;\n",
    "\n",
    "    xlim([0 50]);\n",
    "    axis equal;\n",
    "\n",
    "    % ecuatia parametrica\n",
    "    t = linspace(0, 1, 101);\n",
    "    pts = kron((1 - t) .^ 2, pt1) + kron(2 * (1 - t) .* t, pt2) + kron(t .^ 2, pt3);\n",
    "    \n",
    "    % plotare curba\n",
    "    plot(pts(1, :), pts(2, :));\n",
    "    title (\"Curba Bezier cuatratica\", \"fontsize\", 20);\n",
    "    h = legend (\"P0 (punct de control)\", \"P1 (punct de control)\", \"P2 (punct de control)\", \"Curba Bezier\");\n",
    "    legend (h, \"location\", \"northeastoutside\");\n",
    "\n",
    "    CH = [pt1(1) pt1(2); pt2(1) pt2(2); pt3(1) pt3(2)];\n",
    "    plot(CH(:, 1), CH(:, 2), \"g\");\n",
    "endfunction"
   ]
  },
  {
   "cell_type": "code",
   "execution_count": null,
   "metadata": {},
   "outputs": [],
   "source": [
    "cuadraticBezier()"
   ]
  },
  {
   "cell_type": "markdown",
   "metadata": {},
   "source": [
    "#### Curbe Bézier cubice:\n",
    "$$B(t) = (1-t)^3\\cdot P_0 + 3t\\cdot(1-t)^2\\cdot P_1 + t^2\\cdot (1-t)\\cdot P_2 + t^3\\cdot P_3$$\n",
    "![ref](Bézier_3.gif)"
   ]
  },
  {
   "cell_type": "code",
   "execution_count": null,
   "metadata": {},
   "outputs": [],
   "source": [
    "function [] = cubicBezier()\n",
    "    pt1 = [ 5; -10];\n",
    "    pt2 = [18; 18];\n",
    "    pt3 = [45; 15];\n",
    "    pt4 = [38; -5];\n",
    "\n",
    "    % plotare puncte\n",
    "    plot(pt1(1), pt1(2), '*');\n",
    "    hold on;\n",
    "    plot(pt2(1), pt2(2), '*');\n",
    "    hold on;\n",
    "    plot(pt3(1), pt3(2), '*');\n",
    "    hold on;\n",
    "    plot(pt4(1), pt4(2), '*');\n",
    "    hold on;\n",
    "\n",
    "    xlim([0 50]);\n",
    "    axis equal;\n",
    "\n",
    "    % ecuatia parametrica\n",
    "    t = linspace(0, 1, 101);\n",
    "    pts = kron((1 - t) .^ 3, pt1) + kron(3 * (1 - t) .^ 2 .* t, pt2) + kron(3 * (1 - t) .* t .^ 2, pt3) + kron(t .^ 3, pt4);\n",
    "    \n",
    "    % plotare curba\n",
    "    plot(pts(1, :), pts(2, :));\n",
    "    title (\"Curba Bezier cubica\", \"fontsize\", 20);\n",
    "    h = legend (\"P0 (punct de control)\", \"P1 (punct de control)\", \"P2 (punct de control)\", \"P3 (punct de control)\", \"Curba Bezier\");\n",
    "    legend (h, \"location\", \"northeastoutside\");\n",
    "\n",
    "    CH = [pt1(1) pt1(2); pt2(1) pt2(2); pt3(1) pt3(2) ; pt4(1) pt4(2)];\n",
    "    plot(CH(:, 1), CH(:, 2), \"g\");\n",
    "endfunction"
   ]
  },
  {
   "cell_type": "code",
   "execution_count": null,
   "metadata": {},
   "outputs": [],
   "source": [
    "cubicBezier()"
   ]
  },
  {
   "cell_type": "markdown",
   "metadata": {},
   "source": [
    "Pentru a vedea mai multe animatii ale curbelor Bézier, puteti accesa urmatorul link:\n",
    "https://www.jasondavies.com/animated-bezier/.\n",
    "\n",
    "## Comportament numeric\n",
    "\n",
    "Totusi, folosirea ecuatiei parametrice este instabila numeric, intrucat se pot ridica la puteri mari numere mici (atunci cand $t \\approx 0$ sau $t \\approx 1$). Un mod eficient de a rezolva aceasta problema este folosirea algoritmului De Casteljau, care poate fi privit ca o interpolare liniara repetata."
   ]
  },
  {
   "cell_type": "markdown",
   "metadata": {},
   "source": [
    "# Algoritmul De Casteljau\n",
    "\n",
    "Pentru a construi o curba Bézier se foloseste proprietatea ca orice curba de acest tip poate fi impartita in alte doua curbe Bézier. Pentru acest lucru este nevoie sa gasim doua seturi de puncte de control pentru cele doua noi curbe.\n",
    "\n",
    "Se foloseste urmatoarea relatie de recurenta, unde $i$ reprezinta indicele punctului de control si $j$ pasul:\n",
    "$$P_i^0 = P_i, \\; i = \\overline{0,n}$$\n",
    "$$P_i^j =P_i^{j-1}\\cdot (1-t) + P_{i+1}^{j-1}\\cdot t \\text{, cu } i = \\overline{0,n-j}, j = \\overline{1,n}$$\n",
    "$$B(t) = P_0^n$$\n",
    "\n",
    "Fie $P_i^0$ si $P_{i+1}^0$ doua puncte de control succesive si $P_i^{1}$ un punct care imparte segmentul $P_i^0 P_{i+1}^0$ in raportul $\\displaystyle\\frac{t}{1-t}$ (raportul intre distanta dintre $P_i^{0}$ si $P_i^{1}$ si cea dintre $P_i^{0}$ si $P_{i+1}^{0}$ este $t$). Rezulta urmatoarea relatie:\n",
    "$$P_i^{1} = P_i^{0} + t\\cdot (P_{i+1}^{0} - P_i^0) = (1-t)\\cdot P_i^0 + t\\cdot P_{i+1}^0$$\n",
    "\n",
    "Pornind de la poligonul $P_{0}^{0}$, $P_{1}^{0}$, ..., $P_{n}^{0}$ si aplicand relatia de mai sus, rezulta poligonul $P_{0}^{1}$, $P_{1}^{1}$, ..., $P_{n-1}^{1}$, apoi $P_{0}^{2}$, $P_{1}^{2}$, ..., $P_{n-2}^{2}$, pentru ca in final sa se obtina punctul $P_{0}^{n}$, fiind un punct de pe curba Bézier.\n",
    "\n",
    "Algoritmul poate fi implementat recursiv, functia deCasteljau(i, j) returnand punctul $P_i^j$. Pseudocodul este urmatorul:\n",
    "\n",
    "&emsp;_function **deCasteljau$(i, j)$**    \n",
    "&emsp;&emsp;&emsp;if $j = 0$ then   \n",
    "&emsp;&emsp;&emsp;&emsp;return $P_i^0$    \n",
    "&emsp;&emsp;&emsp;else   \n",
    "&emsp;&emsp;&emsp;&emsp;return $(1-t)\\cdot P_i^{j - 1} + t\\cdot P_{i + 1}^{j - 1}$    \n",
    "&emsp;endfunction_\n",
    "    \n",
    "Desi pare o implementare eleganta, se poate observa ca unele apeluri ale functiei se repeta de multe ori, algoritmul avand o complexitate exponentiala. Pentru ca algoritmul sa aiba o complexitate mai buna, se poate folosi memoizarea (se retin intr-un vector punctele auxiliare deja calculate).\n",
    "\n",
    "Pentru $n = 3$, algoritmul De Casteljau este ilustrat in urmatorea schema ($P_{i, j} = P_i^j$):\n",
    "\n",
    "![ref](deCasteljau.PNG)"
   ]
  },
  {
   "cell_type": "markdown",
   "metadata": {},
   "source": [
    "### Problema propusa\n",
    "\n",
    "**B1 \\[0p\\]** Completati urmatoarea bucata de cod pentru a calcula un punct de pe o curba Bézier, folosind algoritmul prezentat anterior:"
   ]
  },
  {
   "cell_type": "code",
   "execution_count": null,
   "metadata": {},
   "outputs": [],
   "source": [
    "function P = Casteljau(x, y, t)    \n",
    "    n = length(x);\n",
    "    \n",
    "    % plotare puncte de control\n",
    "    plot(x, y, 'k-o');\n",
    "    legend ('puncte de control');\n",
    "    hold on;\n",
    "    axis([0, 11, 0, 5]);\n",
    "\n",
    "    % TODO - De Casteljau\n",
    "    for j = 1 : n - 1\n",
    "        for i = 1 : n - j \n",
    "            x(i) = (1 - t) * x(i) + t * x(i + 1);\n",
    "            y(i) = (1 - t) * y(i) + t * y(i + 1);\n",
    "        endfor\n",
    "\n",
    "        % plotare P_i^j\n",
    "        %plot(x(1 : n - j), y(1 : n - j), 'r-*');\n",
    "    endfor\n",
    "    \n",
    "    % TODO - sfarsit\n",
    "\n",
    "    P =[x(1) y(1)];\n",
    "endfunction"
   ]
  },
  {
   "cell_type": "code",
   "execution_count": null,
   "metadata": {},
   "outputs": [],
   "source": [
    "function [B_x B_y] = BezierCurve(x, y)\n",
    "    % coordonatele punctelor de control\n",
    "    i = 1;\n",
    "    \n",
    "    % curba Bezier\n",
    "    B_x = zeros();\n",
    "    B_y = zeros();\n",
    "    hold off; \n",
    "\n",
    "    for t = 0 : 0.05 : 1\n",
    "        P = Casteljau(x, y, t);\n",
    "        B_x(i) = P(1);\n",
    "        B_y(i) = P(2);\n",
    "        i++;\n",
    "        \n",
    "        % plotare puncte de pe curba Bezier\n",
    "        plot(B_x, B_y, 'b-s');\n",
    "        legend ('puncte calculate', 'puncte aflate pe curba Bezier');\n",
    "                \n",
    "        pause(0.3);\n",
    "        hold off; \n",
    "    endfor\n",
    "endfunction"
   ]
  },
  {
   "cell_type": "code",
   "execution_count": null,
   "metadata": {},
   "outputs": [],
   "source": [
    "x = [1.2 0.9 6 3.7];\n",
    "y = [1.5 3.5 4.7 0.5];\n",
    "\n",
    "[B_x B_y] = BezierCurve(x, y);"
   ]
  },
  {
   "cell_type": "markdown",
   "metadata": {},
   "source": [
    "<a id='taylor'></a>\n",
    "\n",
    "## Anexa 1 - aproximarea folosind descompunerea in serie Taylor \n",
    "\n",
    "Fie $f:[a,b] \\rightarrow \\mathbb{R}$, continua si $f \\in C^{n + 1}((a, b))$, atunci pentru orice $x \\in [a, b]$ si $\\forall t \\in [a, b]$, $\\exists \\ \\xi \\in (t, x)$ astfel incat:\n",
    "\n",
    "$$f(x) = f(t) + \\frac{(x - t)}{1!}f'(t) + \\frac{(x - t)^2}{2!}f''(t) + \\dots + \\frac{(x-t)^n}{n!}f^{(n)}(t) + \\frac{(x - t)^{n + 1}}{(n + 1)!}f^{(n + 1)}(\\xi)$$\n",
    "\n",
    "Notand $P_n(x) = \\displaystyle\\sum_\\limits{i = 0}^{n}\\frac{(x - t)^i}{i!}f^{(i)}(x - t)$ si $R_n(x) = \\displaystyle\\frac{(x - t)^{n + 1}}{(n + 1)!}f^{(n + 1)}(\\xi)$, polinomul de interpolare, respectiv eroarea interpolarii, s-ar poate spune ca descompunerea in serie Taylor reprezinta o metoda buna de interpolare:\n",
    "\n",
    "![ref2](Taylor.png 'Aproximarea lui e^x cu descompunere in serie Taylor in jurul lui t = 0')"
   ]
  },
  {
   "cell_type": "markdown",
   "metadata": {},
   "source": [
    "<a id='deriv'></a>\n",
    "\n",
    "## Anexa 2 - importanta derivatei a doua\n",
    "\n",
    "Spuneam mai sus ca derivata a doua reprezinta o masura a **curburii** unei functii, mai exact cat de stransa este o curba facuta de aceasta (puteti face analogia cu o curba pe o sosea).\n",
    "\n",
    "Fie o functie $f$ si un punct $P(x, f(x)) \\in G_f$. Atunci $\\exists!$ un cerc de raza $r$ care aproximeaza f intr-o vecinantate a punctului $P$. Mai jos se poate observa acest fenomen pentru o curba $C$:\n",
    "\n",
    "![ref1](Curbura.png 'Aproximarea lui C intr-o vecinatate a lui P')\n",
    "\n",
    "Astfel, putem defini curbura cu semn intr-un punct $x$, $k_x$, ca fiind opusul razei cercului de mai sus. Se poate demonstra urmatoare identitate:\n",
    "\n",
    "$$k_x = \\frac{1}{r} = \\displaystyle\\frac{f''(x)}{(1 + f'^2(x))^\\frac{3}{2}}$$\n",
    "\n",
    "Animatia de mai jos poate exemplifca modificarea curburii in functie de raza cercului:\n",
    "\n",
    "![ref1](Deriv2.gif 'Curbura functiei f(x) = x^3')\n",
    "\n",
    "In mod informal, am putea spune ca a doua derivata a unei functii ilustreaza \"amplitudinea\" curbei acesteia (cat de larga este aceasta curba), iar conditia de continuitate a celei de-a doua derivate ne asigura ca toate schimbarile de curbura ale functiei noastre Spline vor fi line, aceasta devenind astfel mai **neteda**."
   ]
  },
  {
   "cell_type": "markdown",
   "metadata": {},
   "source": [
    "<a id='bern'></a>\n",
    "## Anexa 3 - Vizualizare polinoame Bernstein"
   ]
  },
  {
   "cell_type": "code",
   "execution_count": null,
   "metadata": {},
   "outputs": [],
   "source": [
    "function [] = BernsteinDeg0()\n",
    "    t = linspace(0, 1, 100);\n",
    "\n",
    "    B00 = (ones(1, 100));\n",
    "    plot(t, B00, \"r\");\n",
    "\n",
    "    title (\"Polinom Bernstein de grad 0\", \"fontsize\", 20);\n",
    "    xlabel(\"t\");\n",
    "    ylabel(\"B00\");\n",
    "    h = legend (\"B00\");\n",
    "    legend (h, \"location\", \"northeastoutside\");\n",
    "    set (h, \"fontsize\", 20);\n",
    "endfunction"
   ]
  },
  {
   "cell_type": "code",
   "execution_count": null,
   "metadata": {
    "scrolled": false
   },
   "outputs": [],
   "source": [
    "BernsteinDeg0()"
   ]
  },
  {
   "cell_type": "code",
   "execution_count": null,
   "metadata": {},
   "outputs": [],
   "source": [
    "function [] = BernsteinDeg1()\n",
    "    t = linspace(0, 1, 100);\n",
    "\n",
    "    B01 = 1 - t;\n",
    "    plot(t, B01, \"r\");\n",
    "    hold on;\n",
    "\n",
    "    B11 = t;\n",
    "    plot(t, B11, \"g\");\n",
    "\n",
    "    title (\"Polinom Bernstein de grad 1\", \"fontsize\", 20);\n",
    "    xlabel(\"t\");\n",
    "    ylabel(\"B00, B11\");\n",
    "    h = legend (\"B01\", \"B11\");\n",
    "    legend (h, \"location\", \"northeastoutside\");\n",
    "    set (h, \"fontsize\", 20);\n",
    "endfunction"
   ]
  },
  {
   "cell_type": "code",
   "execution_count": null,
   "metadata": {
    "scrolled": true
   },
   "outputs": [],
   "source": [
    "BernsteinDeg1()"
   ]
  },
  {
   "cell_type": "code",
   "execution_count": null,
   "metadata": {},
   "outputs": [],
   "source": [
    "function [] = BernsteinDeg2()\n",
    "    t = linspace(0, 1, 100);\n",
    "\n",
    "    B02 = (1 - t) .^ 2;\n",
    "    plot(t, B02, \"r\");\n",
    "    hold on;\n",
    "\n",
    "    B12 = 2 * t .* (1 - t);\n",
    "    plot(t, B12, \"g\");\n",
    "    hold on;\n",
    "\n",
    "    B22 = t .^ 2;\n",
    "    plot(t, B22, \"y\");\n",
    "\n",
    "    title (\"Polinom Bernstein de grad 2\", \"fontsize\", 20);\n",
    "    xlabel(\"t\");\n",
    "    ylabel(\"B02, B12, B22\");\n",
    "    h = legend (\"B02\", \"B12\", \"B22\");\n",
    "    legend (h, \"location\", \"northeastoutside\");\n",
    "    set (h, \"fontsize\", 20);\n",
    "endfunction"
   ]
  },
  {
   "cell_type": "code",
   "execution_count": null,
   "metadata": {
    "scrolled": false
   },
   "outputs": [],
   "source": [
    "BernsteinDeg2()"
   ]
  },
  {
   "cell_type": "code",
   "execution_count": null,
   "metadata": {},
   "outputs": [],
   "source": [
    "function [] = BernsteinDeg3()\n",
    "    t = linspace(0, 1, 100);\n",
    "\n",
    "    B03 = (1 - t) .^ 3;\n",
    "    plot(t, B03, \"r\");\n",
    "    hold on;\n",
    "\n",
    "    B13 = 3 * t .* (1 - t) .^ 2;\n",
    "    plot(t, B13, \"g\");\n",
    "    hold on;\n",
    "\n",
    "    B23 = 3 * t .^ 2 .* (1 - t);\n",
    "    plot(t, B23, \"y\");\n",
    "    hold on;\n",
    "\n",
    "    B33 = t .^ 3;\n",
    "    plot(t, B33, \"b\");\n",
    "\n",
    "    title (\"Polinom Bernstein de grad 3\", \"fontsize\", 20);\n",
    "    xlabel(\"t\");\n",
    "    ylabel(\"B03, B13, B23, B33\");\n",
    "    h = legend (\"B03\", \"B13\", \"B23\", \"B33\");\n",
    "    legend (h, \"location\", \"northeastoutside\");\n",
    "    set (h, \"fontsize\", 20);\n",
    "endfunction"
   ]
  },
  {
   "cell_type": "code",
   "execution_count": null,
   "metadata": {
    "scrolled": true
   },
   "outputs": [],
   "source": [
    "BernsteinDeg3()"
   ]
  }
 ],
 "metadata": {
  "kernelspec": {
   "display_name": "Octave",
   "language": "octave",
   "name": "octave"
  },
  "language_info": {
   "file_extension": ".m",
   "help_links": [
    {
     "text": "GNU Octave",
     "url": "https://www.gnu.org/software/octave/support.html"
    },
    {
     "text": "Octave Kernel",
     "url": "https://github.com/Calysto/octave_kernel"
    },
    {
     "text": "MetaKernel Magics",
     "url": "https://metakernel.readthedocs.io/en/latest/source/README.html"
    }
   ],
   "mimetype": "text/x-octave",
   "name": "octave",
   "version": "4.2.2"
  }
 },
 "nbformat": 4,
 "nbformat_minor": 2
}
