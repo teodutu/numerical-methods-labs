{
 "cells": [
  {
   "cell_type": "markdown",
   "metadata": {},
   "source": [
    "# Laborator 2 - Factorizari LU\n",
    "\n",
    "## De ce?\n",
    "\n",
    "Sistemele de ecuatii modeleaza foarte multe procese si transformari din lumea reala, iar rezolvarea lor este necesara in multe domenii precum:\n",
    "\n",
    "- economie\n",
    "- procese tehnologice: se cunosc iesirile si matricea de transfer si se cauta intrarile"
   ]
  },
  {
   "cell_type": "markdown",
   "metadata": {},
   "source": [
    "## Forma generala\n",
    "\n",
    "$$A \\cdot x = b$$\n",
    "\n",
    "Adica:\n",
    "\n",
    "$$\\begin{bmatrix}\n",
    "    a_{11} & a_{12} & \\dots a_{1n} \\\\\n",
    "    a_{21} & a_{22} & \\dots a_{2n} \\\\\n",
    "    . \\\\\n",
    "    . \\\\\n",
    "    . \\\\\n",
    "    a_{n1} & a_{n2} & \\dots a_{nn}\n",
    "  \\end{bmatrix}\n",
    "  \\cdot\n",
    "  \\begin{bmatrix}\n",
    "    x_1 \\\\\n",
    "    x_2 \\\\\n",
    "    . \\\\\n",
    "    . \\\\\n",
    "    . \\\\\n",
    "    x_n\n",
    "  \\end{bmatrix}\n",
    "  =\n",
    "  \\begin{bmatrix}\n",
    "    b_1 \\\\\n",
    "    b_2 \\\\\n",
    "    . \\\\\n",
    "    . \\\\\n",
    "    . \\\\\n",
    "    b_n\n",
    "  \\end{bmatrix}\n",
    "  $$"
   ]
  },
  {
   "cell_type": "markdown",
   "metadata": {},
   "source": [
    "### Exemplu\n",
    "\n",
    "$$\\begin{bmatrix}\n",
    "    1 & 1 & 1 \\\\\n",
    "    -2 & 2 & -4 \\\\\n",
    "    2 & -3 & -1\n",
    "  \\end{bmatrix}\n",
    "  \\cdot\n",
    "  \\begin{bmatrix}\n",
    "    x_1 \\\\\n",
    "    x_2 \\\\\n",
    "    x_3\n",
    "  \\end{bmatrix}\n",
    "  =\n",
    "  \\begin{bmatrix}\n",
    "    0 \\\\\n",
    "    12 \\\\\n",
    "    7\n",
    "  \\end{bmatrix}\n",
    "  $$"
   ]
  },
  {
   "cell_type": "code",
   "execution_count": 1,
   "metadata": {},
   "outputs": [
    {
     "name": "stdout",
     "output_type": "stream",
     "text": [
      "A =\n",
      "\n",
      "   1   1   1\n",
      "  -2  -2  -4\n",
      "   2  -3  -1\n",
      "\n",
      "b =\n",
      "\n",
      "    0\n",
      "   12\n",
      "    7\n",
      "\n"
     ]
    }
   ],
   "source": [
    "A = [1 1 1; -2 -2 -4; 2 -3 -1]\n",
    "b = [0; 12; 7]"
   ]
  },
  {
   "cell_type": "code",
   "execution_count": 4,
   "metadata": {},
   "outputs": [
    {
     "name": "stdout",
     "output_type": "stream",
     "text": [
      "x =\n",
      "\n",
      "  -0.051813  -0.233161  -0.284974\n",
      "\n"
     ]
    }
   ],
   "source": [
    "% In Matlab/Octave un sistem de ecuatii LINIARE se poate rezolva astfel:\n",
    "x = b\\A\n"
   ]
  },
  {
   "cell_type": "markdown",
   "metadata": {},
   "source": [
    "Aceasta metoda se foloseste de **inversa** matricei _A_, operatie foarte costisitoare si **instabila numeric** (mai multe despre stabilitate numerica aici - TODO).\n",
    "\n",
    "Din acest motiv, s-au inventat metode de rezolvare a sistemelor liniare care exploateaza diverse particularitati ale matricelor.\n",
    "\n",
    "### Exemplu\n",
    "\n",
    "Daca A este **matrice triunghiulara**:"
   ]
  },
  {
   "cell_type": "code",
   "execution_count": null,
   "metadata": {},
   "outputs": [],
   "source": []
  }
 ],
 "metadata": {
  "celltoolbar": "Edit Metadata",
  "kernelspec": {
   "display_name": "Octave",
   "language": "octave",
   "name": "octave"
  },
  "language_info": {
   "file_extension": ".m",
   "help_links": [
    {
     "text": "GNU Octave",
     "url": "https://www.gnu.org/software/octave/support.html"
    },
    {
     "text": "Octave Kernel",
     "url": "https://github.com/Calysto/octave_kernel"
    },
    {
     "text": "MetaKernel Magics",
     "url": "https://github.com/calysto/metakernel/blob/master/metakernel/magics/README.md"
    }
   ],
   "mimetype": "text/x-octave",
   "name": "octave",
   "version": "4.2.2"
  }
 },
 "nbformat": 4,
 "nbformat_minor": 2
}
